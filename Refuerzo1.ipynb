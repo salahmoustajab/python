{
 "cells": [
  {
   "cell_type": "markdown",
   "id": "c3e26ce5",
   "metadata": {},
   "source": [
    "# Refuerzo: operaciones y condicional\n",
    "\n",
    "En este *notebook* tenemos principalmente ejercicios. Tienes que resolverlos siguiendo las indicaciones que se dan.\n",
    "\n",
    "### Ejercicio 1: Elevar al cuadrado.\n",
    "Escribe en la celda siguiente un programa que pide un número, usando las funciones **int()** e **input()**. Después imprime el número multiplicado por sí mismo.\n",
    "Por ejemplo, si el usuario introduce los valores 3 y -4, se verá de la siguiente manera:\n",
    "> \\>Introduzca un número: 3\n",
    ">\n",
    "> 9\n",
    ">\n",
    "> \\>Introduzca un número: -4\n",
    ">\n",
    "> 16"
   ]
  },
  {
   "cell_type": "code",
   "execution_count": null,
   "id": "e769de8a",
   "metadata": {},
   "outputs": [],
   "source": []
  },
  {
   "cell_type": "markdown",
   "id": "b11cdf0a",
   "metadata": {},
   "source": [
    "### Ejercicio 2: Valor absoluto.\n",
    "El siguiente programa pide un número, igual que en el ejercicio anterior. \n",
    "Luego utiliza un comparador **if** para detectar si el número introducido es menor que cero. Si es así, se imprime el resultado multiplicado por -1. Si era positivo (o cero), se imprime sin cambios.\n",
    "> \\>Introduzca un número: 2 <br>\n",
    "> 2\n",
    ">\n",
    "> \\>Introduzca un número: -4<br>\n",
    "> 4"
   ]
  },
  {
   "cell_type": "code",
   "execution_count": null,
   "id": "1bed5743",
   "metadata": {},
   "outputs": [],
   "source": []
  },
  {
   "cell_type": "markdown",
   "id": "0dc91fe5",
   "metadata": {},
   "source": [
    "### Ejercicio 3: Comparar dos números.\n",
    "El programa pedirá dos números al usuario, pongamos que son \"A\" y \"B\". Si el primero es mayor que el segundo, lo indicará mediante la función print, escribiendo que el número \"A\" es mayor que \"B\". Si el segundo es mayor, lo hará escribiendo que el número \"A\" es menor que \"B\".\n",
    "> \\>Introduzca un número: 3 <br>\n",
    "> \\>Introduzca otro número: 2 <br>\n",
    "> 3 es mayor que 2\n",
    ">\n",
    "> \\>Introduzca un número: 5 <br>\n",
    "> \\>Introduzca otro número: 6 <br>\n",
    "> 5 es menor que 6\n",
    ">"
   ]
  },
  {
   "cell_type": "code",
   "execution_count": null,
   "id": "91b87aee",
   "metadata": {},
   "outputs": [],
   "source": []
  },
  {
   "cell_type": "markdown",
   "id": "17db1348",
   "metadata": {},
   "source": [
    "### Ejercicio 4: Reducción de código.\n",
    "Examina este programa:\n",
    "```python\n",
    "nombre = input(\"¿Cómo te llamas?)\n",
    "print(\"Hola, \", nombre)\n",
    "```\n",
    "Escribe el mismo programa en una sola línea:"
   ]
  },
  {
   "cell_type": "code",
   "execution_count": null,
   "id": "86b2ace3",
   "metadata": {},
   "outputs": [],
   "source": []
  },
  {
   "cell_type": "markdown",
   "id": "462921eb",
   "metadata": {},
   "source": [
    "### Ejercicio 5: Media de dos números\n",
    "Escribe un programa que calcula la media de dos números que el usuario debe teclear. La media es la suma de los dos números, dividida entre dos."
   ]
  },
  {
   "cell_type": "code",
   "execution_count": null,
   "id": "f65584d7",
   "metadata": {},
   "outputs": [],
   "source": []
  },
  {
   "cell_type": "markdown",
   "id": "4d7c4300",
   "metadata": {},
   "source": [
    "### Ejercicio 6: Media de tres números.\n",
    "En este caso, la media será la suma de los tres dividida entre tres."
   ]
  },
  {
   "cell_type": "code",
   "execution_count": null,
   "id": "d85ff1a9",
   "metadata": {},
   "outputs": [],
   "source": []
  },
  {
   "cell_type": "markdown",
   "id": "2e3e7fc6",
   "metadata": {},
   "source": [
    "Si has realizado el ejercicio anterior de igual manera que los ejercicios anteriores, entonces has tenido que escribir tres veces la expresión `numX = int(input(\"escribe un número: \"))`. Esto es muy largo, y cuanto más largo, más peligro de equivocarse.\n",
    "\n",
    "Vamos a recordar la expresión *for*.\n",
    "```python\n",
    "for i in range(3):\n",
    "    num = int(input(\"escribe un número: \"))\n",
    "    total = total + num\n",
    "print total\n",
    "```\n",
    "\n",
    "### Ejercicio 7: Media de cinco números.\n",
    "Escribe un programa para hallar la media de cinco números, usando el bucle **for**."
   ]
  },
  {
   "cell_type": "code",
   "execution_count": null,
   "id": "ed1e629a",
   "metadata": {},
   "outputs": [],
   "source": []
  },
  {
   "cell_type": "markdown",
   "id": "89bbe112",
   "metadata": {},
   "source": [
    "### Ejercicio 8: Crear una lista\n",
    "Las listas se definen utilizando corchetes: [  ]\n",
    "\n",
    "Dentro, los elementos pueden ser de cualquier tipo, cadenas de texto o números. Si escribimos una cadena, debemos utilizar *delimitadores* de cadena. Es decir, comillas simples o dobles.\n",
    "\n",
    "Define una cadena que contenga el nombre de tres personas."
   ]
  },
  {
   "cell_type": "code",
   "execution_count": null,
   "id": "1cedd3d4",
   "metadata": {},
   "outputs": [],
   "source": []
  },
  {
   "cell_type": "markdown",
   "id": "9bd903ae",
   "metadata": {},
   "source": [
    "### Ejercicio 9: Imprimir un elemento de una lista.\n",
    "Imprime el segundo elemento de la lista de nombres anterior. Para esto tendrás que utilizar el *índice* acompañando al nombre de la lista. El índice es un número de orden, que se escribe entre corchetes. Ten en cuenta que el primer elemento es el número 0."
   ]
  },
  {
   "cell_type": "code",
   "execution_count": null,
   "id": "d51feeda",
   "metadata": {},
   "outputs": [],
   "source": []
  },
  {
   "cell_type": "markdown",
   "id": "3e480803",
   "metadata": {},
   "source": [
    "### Ejercicio 10: Recorrer una lista usando *for*\n",
    "Antes hemos recordado y usado la expresión *for*, en la que una variable que hemos llamado *i* iba tomando los valores de un *rango()*.\n",
    "\n",
    "En esta ocasión, en lugar de usar el *rango()* usaremos sencillamente el nombre de la lista de nombres anterior.\n",
    "\n",
    "Usando **for** y tras la palabra que le acompaña, **in**, pon la lista de nombres, para imprimir cada uno de los nombres de esa lista.\n",
    "\n",
    "Si tienes dificultades, te aconsejo investigar algún ejemplo en Internet."
   ]
  },
  {
   "cell_type": "code",
   "execution_count": null,
   "id": "1a00c0d7",
   "metadata": {},
   "outputs": [],
   "source": []
  },
  {
   "cell_type": "markdown",
   "id": "023d1651",
   "metadata": {},
   "source": [
    "### Ejercicio 11: Introducir valores en una lista.\n",
    "Antes hemos utilizado el índice de una lista para poder imprimir un elemento. El índice es el número de orden, empezando por cero. \n",
    "\n",
    "Pero esta vez, en lugar de poner la lista y su índice dentro de los paréntesis de la instrucción *print()*, vamos a usar el operador de asignación de valor, o sea, el signo igual =, para cambiar el nombre del tercer elemento de la lista de nombres.\n",
    "\n",
    "Una vez cambiado, imprime la lista entera."
   ]
  },
  {
   "cell_type": "code",
   "execution_count": null,
   "id": "cdd9c0ce",
   "metadata": {},
   "outputs": [],
   "source": []
  },
  {
   "cell_type": "markdown",
   "id": "a83568f9",
   "metadata": {},
   "source": [
    "### Ejercicio 12: Usar un índice para imprimir solo algunos valores de la lista.\n",
    "Si queremos leer (imprimir) solamente los tres primeros elementos de la lista, no podemos usar `for i in lista`, sino que tendremos que usar `range(3)`.\n",
    "Escribe el programa aquí debajo:"
   ]
  },
  {
   "cell_type": "code",
   "execution_count": null,
   "id": "7c108b86",
   "metadata": {},
   "outputs": [],
   "source": []
  },
  {
   "cell_type": "markdown",
   "id": "c0dfa72c",
   "metadata": {},
   "source": [
    "### Ejercicio 13: break.\n",
    "La instrucción **break** se utiliza para \"romper\" un bucle. Normalmente se utiliza en una instrucción **if** dentro del correspondiente **for** o **while** que da cuerpo al bucle.\n",
    "\n",
    "En este programa, la instrucción break dará el resultado siguiente:\n",
    "```python\n",
    "for i in range(10):\n",
    "    if i == 4:\n",
    "        break\n",
    "    print(i)\n",
    "```\n",
    ">0<br>\n",
    ">1<br>\n",
    ">2<br>\n",
    ">3<br>\n",
    "\n",
    "Tenemos una lista de colores, pero solamente queremos imprimirlos hasta llegar al negro.\n",
    "\n",
    "Tendremos que usar un bucle **for** para recorrer la lista, y en cada ejecución del bucle, habrá que utilizar un comparador **if** para ver si ese elemento es el 'negro'. Si lo es, usaremos break para romper el *for* y saltar al final. Si no lo es, imprimiremos el color."
   ]
  },
  {
   "cell_type": "code",
   "execution_count": null,
   "id": "1d4e6160",
   "metadata": {},
   "outputs": [],
   "source": [
    "colores = ['verde', 'rojo', 'blanco', 'marrón', 'negro', 'amarillo', 'azul']\n",
    "\n",
    "# Continúa aquí debajo ...\n",
    "\n",
    "\n",
    "\n",
    "\n"
   ]
  },
  {
   "cell_type": "markdown",
   "id": "ae502762",
   "metadata": {},
   "source": [
    "### Ejercicio 14: break 2.\n",
    "Utiliza como punto de partida el programa anterior.\n",
    "\n",
    "Ahora queremos que el color negro también salga en pantalla, pero después, ninguno más."
   ]
  },
  {
   "cell_type": "code",
   "execution_count": null,
   "id": "363ab2f0",
   "metadata": {},
   "outputs": [],
   "source": []
  },
  {
   "cell_type": "markdown",
   "id": "a499f3fb",
   "metadata": {},
   "source": [
    "### Ejercicio 15: Continue\n",
    "La palabra reservada **continue** permite parar la ejecución de un ciclo del bucle, y saltar al siguiente ciclo.\n",
    "\n",
    "Es decir, que una vez que aparece *continue*, las instrucciones siguientes ya no se realizan, y se empieza el bucle desde el principio de su siguiente vez.\n",
    "\n",
    "Estudia el siguiente programa, para entender el resultado que aparece:"
   ]
  },
  {
   "cell_type": "code",
   "execution_count": 5,
   "id": "1ab36923",
   "metadata": {},
   "outputs": [
    {
     "name": "stdout",
     "output_type": "stream",
     "text": [
      "0\n",
      "1\n",
      "2\n",
      "3\n",
      "4\n",
      "6\n",
      "7\n",
      "8\n",
      "9\n"
     ]
    }
   ],
   "source": [
    "for i in range(10):\n",
    "    if i == 5:\n",
    "        continue\n",
    "    print(i)    "
   ]
  },
  {
   "cell_type": "markdown",
   "id": "0e2dccef",
   "metadata": {},
   "source": [
    "Escribe un programa que se salte el color negro de la lista de colores anterior."
   ]
  },
  {
   "cell_type": "code",
   "execution_count": null,
   "id": "7859651f",
   "metadata": {},
   "outputs": [],
   "source": []
  },
  {
   "cell_type": "markdown",
   "id": "adcf726e",
   "metadata": {},
   "source": [
    "### Ejercicio 16: while infinito.\n",
    "Primero localiza el botón de **stop** en los controles de **Jupyter**. Está al lado del botón **run**.\n",
    "\n",
    "Cuando ejecutes el siguiente programa, tendrás que pararlo pulsando ese botón."
   ]
  },
  {
   "cell_type": "code",
   "execution_count": null,
   "id": "f9f3b454",
   "metadata": {},
   "outputs": [],
   "source": [
    "a = 0\n",
    "while a > 0:\n",
    "    a += 1"
   ]
  },
  {
   "cell_type": "markdown",
   "id": "f4ebf702",
   "metadata": {},
   "source": [
    "En muchas ocasiones, por error, los programadores acaban escribiendo algo así sin darse cuenta, ya que el valor de *a* puede haberse cambiado a algo que no esperamos hace quinientas o seiscientas líneas.\n",
    "\n",
    "Todo bucle que podría resultar infinito debemos pararlo si se da una condición específica, usando una instrucción **break**. Un bucle que no termina nunca es un programa colgado. Un error de programación.\n",
    "\n",
    "La solución es algo así:"
   ]
  },
  {
   "cell_type": "code",
   "execution_count": null,
   "id": "bed06f8e",
   "metadata": {},
   "outputs": [],
   "source": [
    "a = 0\n",
    "while True:\n",
    "    a += 1\n",
    "    if a > 10000000:\n",
    "        break\n",
    "print(\"Fin.\")"
   ]
  },
  {
   "cell_type": "markdown",
   "id": "845dc540",
   "metadata": {},
   "source": [
    "El programa que debes escribir empieza pidiendo una pulsación de tecla (y *Enter* después). Después empieza el bucle infinito, con `while True:`.\n",
    "\n",
    "Dentro del bucle, si la tecla pulsada es la 'a', rompemos el bucle. Si no lo es, pedimos otra vez que se introduzca una letra desde el teclado."
   ]
  },
  {
   "cell_type": "code",
   "execution_count": null,
   "id": "7b0e528f",
   "metadata": {},
   "outputs": [],
   "source": []
  },
  {
   "cell_type": "markdown",
   "id": "d665f8e2",
   "metadata": {},
   "source": [
    "### Ejercicio 17: Añadir elementos a una lista.\n",
    "Las listas pueden alargarse, añadiendo elementos al final.\n",
    "\n",
    "Se utiliza el *método* **.append()** que tienen las listas:\n",
    "```python\n",
    "lista = [\"uno\", \"dos\", \"tres\"]\n",
    "lista.append(\"cuatro\")\n",
    "print(lista)\n",
    "```\n",
    "> ['uno', 'dos', 'tres', 'cuatro']\n",
    "\n",
    "Es muy común crear listas vacías, y luego ir añadiendo elementos según los necesitemos. Una lista vacía es simplemente usar el operador = y tras él, abrir y cerrar corchetes sin nada dentro.\n",
    "\n",
    "Crea una lista vacía y luego añádele dos elementos numéricos:"
   ]
  },
  {
   "cell_type": "code",
   "execution_count": null,
   "id": "9551406f",
   "metadata": {},
   "outputs": [],
   "source": []
  },
  {
   "cell_type": "markdown",
   "id": "5c2462d7",
   "metadata": {},
   "source": [
    "### Ejercicio 18: Ordenar una lista de dos números\n",
    "Utiliza el ejercicio 3, de comparar dos números, junto con el ejercicio 11, de introducir valores en una lista, para ordenar la lista de salida de menor a mayor.\n",
    "\n",
    "Para facilitar la tarea, te propongo usar dos listas, una para entrada de datos desordenados, y otra para los resultados.\n",
    "\n",
    "Tendrás que usar el método **.append()** para introducir los valores en la lista de salida."
   ]
  },
  {
   "cell_type": "code",
   "execution_count": 15,
   "id": "61dfb628",
   "metadata": {},
   "outputs": [],
   "source": [
    "entrada = [4, 2]\n",
    "salida = []\n",
    "# Continúa aquí debajo ...\n",
    "\n",
    "\n",
    "\n"
   ]
  }
 ],
 "metadata": {
  "kernelspec": {
   "display_name": "Python 3 (ipykernel)",
   "language": "python",
   "name": "python3"
  },
  "language_info": {
   "codemirror_mode": {
    "name": "ipython",
    "version": 3
   },
   "file_extension": ".py",
   "mimetype": "text/x-python",
   "name": "python",
   "nbconvert_exporter": "python",
   "pygments_lexer": "ipython3",
   "version": "3.9.7"
  }
 },
 "nbformat": 4,
 "nbformat_minor": 5
}
