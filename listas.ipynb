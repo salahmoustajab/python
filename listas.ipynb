"    \n",
"Será necesario emplear un bucle. El más cómodo será el bucle *for*."
]
},
{
"cell_type": "code",
"execution_count": null,
"id": "professional-heavy",
"metadata": {},
"outputs": [],
"source": [
"# for i in ...\n"
]
},
{
"cell_type": "markdown",
"id": "ambient-pharmacology",
"\n",
"Pero esto es tan laborioso que nos costaría menos esfuerzo crear la lista de nuevo:\n",
"\n",
"    dias = [\"domingo\", \"lunes\", ... etc]\n",
"    \n",
"Sin embargo, es frecuente que estos cambios se tengan que hacer de manera autónoma mediante bucles en un programa. Para ello, comprueba el siguiente ejemplo:\n",
"\n",
"    lista = [\"Uno\", \"Dos\", \"Tres\"]\n",
"    primero = lista[0]\n",
"    for i in range(3):\n",
"         if i == 2:\n",
"             lista[i] = primero\n",
"         else:\n",
"             lista[i] = lista[i+1]\n",
"             \n",
"    print(lista)\n",
"\n",
"Tu tarea ahora será modificar de manera similar la lista **dias** para que el primer elemento sea el domingo, y vayan todos en el orden correcto."
]
},
{
"cell_type": "code",
"execution_count": 1,
"id": "expected-cement",
"metadata": {},
"outputs": [],
"source": [
"dias = ''# continúa aquí."
]
},
{
"cell_type": "markdown",
"id": "associate-extreme",
"metadata": {},
"source": [
"### Ejercicio 4\n",
"\n",
"Escriba un programa que permita crear una lista de palabras. Para ello, el programa tiene que pedir un número y luego solicitar ese número de palabras para crear la lista. Por último, el programa tiene que escribir la lista.\n",
"Tendrá que utilizarse una instrucción ***input()*** para almacenar el tamaño de la lista en una variable, y a continuación un bucle ***for*** para ir pidiendo y guardando las palabras.\n",
"Si el usuario introduce el número 0, habrá que mostrar un mensaje de error."
]
},
{
"cell_type": "code",
"execution_count": null,
"id": "alert-florence",
"metadata": {},
"outputs": [],
"source": [
"# paso 1: guardar el tamaño de lista en una variable."
]
