{
 "cells": [
  {
   "cell_type": "markdown",
   "id": "0006c286",
   "metadata": {},
   "source": [
    "# Funciones 1\n",
    "\n",
    "# Problemas recurrentes: enfoque para su resolución\n",
    "\n",
    "En este *notebook* acabarás dándote cuenta de cómo algunos problemas de la programación, tales como la entrada o salida de datos, o algunos cálculos, se repiten una y otra vez.\n",
    "\n",
    "Aprenderemos a aplicar algunos patrones de programación que solucionan estos *sub-problemas*.\n",
    "\n",
    "Estos pequeños problemas, reaparecen en casi cualquier programa cada cierto tiempo: \"solicitar al usuario que introduzca un número\", \"sumar esta serie de valores y calcular la media\", etc.\n",
    "## Leer datos del teclado\n",
    "\n",
    "La forma de resolver la entrada de datos que debe realizar un usuario es algo muy directo.\n",
    "> input() es la función que se utiliza para introducir datos desde el teclado\n",
    "\n",
    "Si el programa está pensado para hacer uso de ese dato en un cálculo, entonces debemos asegurarnos de que el usuario está metiendo un dato numérico, y repetir la operación si esto no es así.\n",
    "\n",
    "Comprueba que la siguiente celda da un error cuando se ejecuta:"
   ]
  },
  {
   "cell_type": "code",
   "execution_count": null,
   "id": "633b4b18",
   "metadata": {},
   "outputs": [],
   "source": [
    "print (\"Pon un número: \")\n",
    "a = input()\n",
    "print(a+2)"
   ]
  },
  {
   "cell_type": "markdown",
   "id": "67a6e97a",
   "metadata": {},
   "source": [
    "Como puedes ver, intentar sumar \"2\" más 2, da un error. Igual error que si intento sumar \"hola\" más 2.\n",
    "\n",
    "Una manera de conocer el tipo de dato que hemos metido es usar la función `type()`.\n",
    "\n",
    "#### Ejercicio 1:\n",
    "Escribe eso en la fórmula de debajo -poniendo **a** dentro del paréntesis-, y verás qué clase de dato que contiene la variable a."
   ]
  },
  {
   "cell_type": "code",
   "execution_count": null,
   "id": "d26618e4",
   "metadata": {
    "scrolled": false
   },
   "outputs": [],
   "source": []
  },
  {
   "cell_type": "markdown",
   "id": "97aefff9",
   "metadata": {},
   "source": [
    "El problema anterior lo resolvíamos escribiendo `a = int(input())`. Esto añade un poco de engorro a nuestra línea de programa, pero no nos asegura que funcione siempre:\n",
    "\n",
    "si el usuario escribe **hola** en vez de un número, el error será otro nuevo."
   ]
  },
  {
   "cell_type": "code",
   "execution_count": 11,
   "id": "b458e33a",
   "metadata": {},
   "outputs": [
    {
     "ename": "ValueError",
     "evalue": "invalid literal for int() with base 10: 'hola'",
     "output_type": "error",
     "traceback": [
      "\u001b[0;31m---------------------------------------------------------------------------\u001b[0m",
      "\u001b[0;31mValueError\u001b[0m                                Traceback (most recent call last)",
      "\u001b[0;32m/tmp/ipykernel_8656/1979109732.py\u001b[0m in \u001b[0;36m<module>\u001b[0;34m\u001b[0m\n\u001b[0;32m----> 1\u001b[0;31m \u001b[0ma\u001b[0m \u001b[0;34m=\u001b[0m \u001b[0mint\u001b[0m\u001b[0;34m(\u001b[0m\u001b[0;34m\"hola\"\u001b[0m\u001b[0;34m)\u001b[0m\u001b[0;34m\u001b[0m\u001b[0;34m\u001b[0m\u001b[0m\n\u001b[0m",
      "\u001b[0;31mValueError\u001b[0m: invalid literal for int() with base 10: 'hola'"
     ]
    }
   ],
   "source": [
    "a = int(\"hola\")"
   ]
  },
  {
   "cell_type": "markdown",
   "id": "d398c526",
   "metadata": {},
   "source": [
    "La conclusión es que hay que analizar si nuestra variable tiene letras o números antes de seguir:\n",
    "```python\n",
    "a = input()\n",
    "for letra in a:\n",
    "    if letra in ['1', '2', '3', '4', '5', '6', '7', '8', '9', '0']:\n",
    "        continue # todo ok\n",
    "    else:\n",
    "        print(\"Error\")\n",
    "```\n",
    "Una versión más útil de esto sería la que puedes ejecutar a continuación:"
   ]
  },
  {
   "cell_type": "code",
   "execution_count": null,
   "id": "ae207701",
   "metadata": {},
   "outputs": [],
   "source": [
    "a = input()\n",
    "error = 0 #esto significa que al principio no hay ningún error.\n",
    "for i in range(len(a)):  #len(a) es la longitud de la palabra a\n",
    "    if a[i] in ['1', '2', '3', '4', '5', '6', '7', '8', '9', '0']:\n",
    "        continue # todo ok. Esta instrución salta al siguiente for\n",
    "    else:\n",
    "        error = 1\n",
    "if error == 1:\n",
    "    print(\"Había que introducir un número.\")\n",
    "    print(\"Volvamos a intentarlo\")"
   ]
  },
  {
   "cell_type": "markdown",
   "id": "f54a2063",
   "metadata": {},
   "source": [
    "#### Ejercicio 2:\n",
    "\n",
    "Crea tú mismo una versión de lo anterior, pero que esta vez admita que el primer carácter de a, es decir, a[0], pueda contener el signo -.\n",
    "\n",
    "Para esto tendrás que usar un ***método*** de las cadenas, llamado **index()**.\n",
    "```python\n",
    "a = '32-21'\n",
    "print(a.index('-'))\n",
    " ```\n",
    "\n",
    "Esto nos daría la posición del carácter '-' dentro de la cadena. Es decir, se imprimiría el número 2, ya que la posición 0 corresponde al '3', la posición 1 al '2', y la posición 2 al '-'.\n",
    "\n",
    "Lo más fácil es añadir '-' a la lista de caracteres. Y después, en la siguiente línea, poner una instrución `if` en lugar del `continue`. En ella, comparamos si letra es '-' y el índice del carácter '-' dentro de a es cero. es decir, `a.index('-') == 0`."
   ]
  },
  {
   "cell_type": "code",
   "execution_count": null,
   "id": "7d8c1e15",
   "metadata": {},
   "outputs": [],
   "source": [
    "a = input() # continúa aquí debajo...\n",
    "\n",
    "\n",
    "\n",
    "\n",
    "\n",
    "\n",
    "\n",
    "\n"
   ]
  },
  {
   "cell_type": "markdown",
   "id": "3be3c869",
   "metadata": {},
   "source": [
    "Ahora es posible todavía que la función falle, si el usuario pone una expresión en la que existan dos caracteres '-', uno de ellos en la posición inicial y otro en medio.\n",
    "\n",
    "Ahora nos puede parecer que ningún usuario será tan torpe como para teclear -32-1 cuando se le pide un número. Pero creedme: entre millones de usuarios, ocurrirá. Y en ese momento, el programa se parará con un error.\n",
    "\n",
    "Una solución sencilla es cambiar el bucle `for` para que en lugar de ir recorriendo todas las letras de a, vaya \"contando\" de una en una:\n",
    "\n",
    "```python\n",
    "a = input()\n",
    "error = 0\n",
    "for i in range(len(a)):  # len(a) es la longitud de a.\n",
    "    if i==0 and a[0] =='-': # Esto solo se hace la primera letra\n",
    "        continue\n",
    "        \n",
    "    if a[i] in ['1', '2', '3', '4', '5', '6', '7', '8', '9', '0']:\n",
    "        # etc...\n",
    "```\n",
    "#### Ejercicio 3:\n",
    "\n",
    "Escribe el código completo abajo:\n"
   ]
  },
  {
   "cell_type": "code",
   "execution_count": null,
   "id": "4434d4dc",
   "metadata": {},
   "outputs": [],
   "source": [
    "a = input() #continúa debajo...\n"
   ]
  },
  {
   "cell_type": "markdown",
   "id": "f33612ba",
   "metadata": {},
   "source": [
    "Puedes comprobar el funcionamiento de esta celda de arriba varias veces, y verás que sólamente admite teclear dígitos, y el signo - colocado en la primera posición, pero no en otras.\n",
    "\n",
    "Podríamos crear un bucle con un condicional para que se repita todo ese fragmento si el dato no es numérico:\n",
    "\n",
    "Lo primero que tendrás que hacer es escribir un `while` encima de todo. Este bucle se repetirá siempre, pero lo romperemos si al final del bucle la variable de error vale cero.\n",
    "\n",
    "La última línea sera un condicional: Si error es 1, entonces rompemos el bucle con la instrucción `break`.\n",
    "\n",
    "```python\n",
    "while True:\n",
    "    # coloca aquí todo el fragmento de la celda de encima.\n",
    "    # Recuerda que como estamos dentro de un buble,\n",
    "    # todo el fragmento debe indentarse a la derecha.\n",
    "    \n",
    "```\n",
    "#### Ejercicio 4:\n",
    "\n",
    "Añade este código aquí debajo, junto con el de la celda anterior. Ten en cuenta lo que he indicado en los comentarios del ejemplo. Una vez terminado el bucle, ya volvemos a escribir en la izquierda, y podemos convertir con seguridad a al valor entero, con `a = int(a)`."
   ]
  },
  {
   "cell_type": "code",
   "execution_count": null,
   "id": "312e812a",
   "metadata": {},
   "outputs": [],
   "source": [
    "\n",
    "\n",
    "\n",
    "\n",
    "\n",
    "\n",
    "\n",
    "\n",
    "\n",
    "\n",
    "\n",
    "\n",
    "\n",
    "\n"
   ]
  },
  {
   "cell_type": "markdown",
   "id": "b034a386",
   "metadata": {},
   "source": [
    "## Funciones\n",
    "Una función es un fragmento de código que no forma parte del programa principal, pero podemos usar en cualquier parte de él.\n",
    "\n",
    "Las funciones se definen utilizando la palabra **def** seguida de un nombre para la función, elegido por nosotros, y unos paréntesis en los que podemos indicar uno *argumentos* o valores que pasarle a la función.\n",
    "\n",
    "Muchas funciones están ya definidas por otros programadores para que nosotros las usemos. Por ejemplo, la función **print('hola')** sirve para imprimir en pantalla lo que pongamos como argumento.\n",
    "\n",
    "Una función puede también devolver un valor. La función **len(\"hola\")** sería un ejemplo. El valor que devuelve es la cantidad de letras de \"hola\". Para usar esta característica de las funciones, hay que utilizar la palabra return dentro de la definición de la función:\n",
    "```python\n",
    "def menor(a, b):\n",
    "    if a < b:\n",
    "        return a\n",
    "    else:\n",
    "        return b\n",
    "```\n"
   ]
  },
  {
   "cell_type": "markdown",
   "id": "16f530d4",
   "metadata": {},
   "source": [
    "Esto en sí mismo no produce un resultado hasta que en alguna parte del programa escribamos `c = menor(5, 6)`, por ejemplo:\n",
    "```python\n",
    "num1 = int(input(\"escribe un número: \")\n",
    "num2 = int(input(\"escribe otro número: \")\n",
    "\n",
    "print(\"el número menor es: \", menor(num1, num2))\n",
    "```"
   ]
  },
  {
   "cell_type": "markdown",
   "id": "65bcbd28",
   "metadata": {},
   "source": [
    "#### Ejercicio 5:\n",
    "Convierte el fragmento de texto para introducir números en una función\n",
    "Ten en cuenta las siguientes modificaciones:\n",
    "1. mover todo el texto anterior cuatro espacios hacia la derecha.\n",
    "2. en la primera línea, pero pegado a la izquierda, la palabra **def** seguida del nombre de la función (eliges tú).\n",
    "\n",
    "3. en lugar de la última línea `int(a)` habrá que escribir `return int(a)`"
   ]
  },
  {
   "cell_type": "code",
   "execution_count": null,
   "id": "d8b82bc1",
   "metadata": {},
   "outputs": [],
   "source": [
    "# Copia y ejecuta aquí el código para introducir números,\n",
    "# pero haciendo los cambios indicados anteriormente\n",
    "\n",
    "\n",
    "\n",
    "\n",
    "\n",
    "\n"
   ]
  },
  {
   "cell_type": "markdown",
   "id": "50ccc88f",
   "metadata": {},
   "source": [
    "Una vez ejecutada la celda de arriba, nuestro *kernel* conoce esa función y la puede usar.\n",
    "\n",
    "Tenemos también que hacer que esta sesión de Python conozca la función *menor()*, para lo cual debes copiarla y ejecutarla en la celda de abajo:"
   ]
  },
  {
   "cell_type": "code",
   "execution_count": null,
   "id": "2bd3502c",
   "metadata": {},
   "outputs": [],
   "source": [
    "# Copia y ejecuta el código de la función menor()...\n",
    "\n",
    "\n",
    "\n",
    "\n"
   ]
  },
  {
   "cell_type": "markdown",
   "id": "29c93508",
   "metadata": {},
   "source": [
    "#### Ejercicio 6\n",
    "Ahora puedes escribir un programa utilizando las dos funciones. Se trata de pedir al usuario que introduzca dos números, usando la función definida por nosotros, y posteriormente imprimir el menor de ellos."
   ]
  },
  {
   "cell_type": "code",
   "execution_count": null,
   "id": "d3ee25ba",
   "metadata": {},
   "outputs": [],
   "source": []
  },
  {
   "cell_type": "markdown",
   "id": "2b17b220",
   "metadata": {},
   "source": [
    "## Módulos\n",
    "Un módulo es un archivo Python que contiene definiciones de funciones.\n",
    "\n",
    "Para usarlas, hay que tener en cuenta dos cosas:\n",
    "\n",
    "1. Se \"importan\" las funciones dentro de nuestro programa usando la palabra **import** y el nombre del módulo (el archivo sin \".py\" detras), y, si lo deseamos, indicando una abreviatura de su nombre para usarlas con más facilidad.\n",
    "2. Se usan indicando el nombre del módulo más un punto, más el nombre de la función.\n",
    "\n",
    "Algunas funciones, las más usadas, vienen cargadas por defecto y no hay que usar el nombre del módulo. Es el caso de print(), range() o len(). Estas funciones se llaman *builtins*. Otras hay que cargarlas usando *import*.\n",
    "\n",
    "Los módulos pueden ser creados por nosotros, si necesitamos algunas funciones diseñadas por nosotros.\n",
    "\n",
    "La mayoría de las veces, sin embargo, usaremos los *módulos estándar*, que vienen incluidos en la instalación de Python.\n",
    "\n",
    "Otros muchos módulos, para tareas especiales, están disponibles para descargar en nuestro ordenador y suelen ser de dominio público.\n",
    "\n",
    "#### Ejemplo:\n",
    "\n",
    "```python\n",
    "import math\n",
    "print(math.modf(322.31))\n",
    "\n",
    "import random as rnd\n",
    "rnd.seed()\n",
    "a = rnd.random()\n",
    "print(int(a*10))\n",
    "```\n",
    "En un módulo guardado en el mismo repositorio en el que está este *notebook* hay un par de funciones llamadas men() y may(). Puedes ver cómo se usan en la siguiente celda:"
   ]
  },
  {
   "cell_type": "code",
   "execution_count": null,
   "id": "5cbe9d0b",
   "metadata": {},
   "outputs": [],
   "source": [
    "import mm\n",
    "a = 4\n",
    "b = 8\n",
    "print(\"el menor es: \", mm.men(a, b))\n",
    "print(\"el mayor es: \", mm.may(a, b))"
   ]
  },
  {
   "cell_type": "markdown",
   "id": "fa0a0a95",
   "metadata": {},
   "source": [
    "En líneas generales, podremos programar mejor cuantas más funciones conozcamos.\n",
    "\n",
    "Es importante tener acceso a ejemplos y páginas que expliquen el funcionamiento de gran cantidad de funciones. Aquí os dejo algunas:\n",
    "\n",
    "https://docs.python.org/es/3/library/\n",
    "\n",
    "https://programmerclick.com/article/45451844707/\n",
    "\n",
    "https://aprendeconalf.es/docencia/python/manual/modulos/\n",
    "\n",
    "https://www.crehana.com/es/blog/desarrollo-web/librerias-python/"
   ]
  },
  {
   "cell_type": "markdown",
   "id": "89f40335",
   "metadata": {},
   "source": [
    "#### Ejercicio 7:\n",
    "Utilizando Atom, crea un nuevo archivo en tu repositorio, y ponle de nombre **mifun.py**\n",
    "\n",
    "Escribe en este archivo el texto de las funciones que has escrito en este *notebook*: la función para pedir un entero desde el teclado, y la función de calcular el número menor de entre dos proporcionados.\n",
    "\n",
    "Renombra la función de introducir el entero como **captura()**\n",
    "\n",
    "Prueba el código siguiente, y corrige tus funciones hasta que fucione correctamente.\n",
    "\n",
    "Guarda este *notebook* y desde Atom, guarda los cambios y súbelos a tu repositorio."
   ]
  },
  {
   "cell_type": "code",
   "execution_count": null,
   "id": "a35d95ca",
   "metadata": {},
   "outputs": [],
   "source": [
    "import mifun\n",
    "\n",
    "print(\"Escribe un número entero: \")\n",
    "a = mifun.captura()\n",
    "print(\"Escribe otro número entero: \")\n",
    "b = mifun.captura()\n",
    "\n",
    "print(\"El número menor es: \", menor(a, b))"
   ]
  }
 ],
 "metadata": {
  "kernelspec": {
   "display_name": "Python 3 (ipykernel)",
   "language": "python",
   "name": "python3"
  },
  "language_info": {
   "codemirror_mode": {
    "name": "ipython",
    "version": 3
   },
   "file_extension": ".py",
   "mimetype": "text/x-python",
   "name": "python",
   "nbconvert_exporter": "python",
   "pygments_lexer": "ipython3",
   "version": "3.9.7"
  }
 },
 "nbformat": 4,
 "nbformat_minor": 5
}
